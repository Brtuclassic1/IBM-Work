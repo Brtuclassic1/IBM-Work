{
 "cells": [
  {
   "cell_type": "markdown",
   "id": "08f07e33",
   "metadata": {},
   "source": [
    "# My Jupyter Notebook"
   ]
  },
  {
   "cell_type": "markdown",
   "id": "f89c9288",
   "metadata": {},
   "source": [
    "## introduction\n",
    "\n",
    "Este cuaderno tiene como objetivo explorar y demostrar algunos conceptos en ciencia de datos. Se abordarán temas como lenguajes, bibliotecas y herramientas utilizadas en este campo. También se presentarán ejemplos prácticos de expresiones aritméticas y manipulación de datos. ¡Comencemos!"
   ]
  },
  {
   "cell_type": "markdown",
   "id": "aaa7ccf4",
   "metadata": {},
   "source": [
    "### Lenguajes de Ciencia de Datos\n",
    "\n",
    "1. Python\n",
    "2. R\n",
    "3. Julia"
   ]
  },
  {
   "cell_type": "markdown",
   "id": "2ba610bb",
   "metadata": {},
   "source": [
    "### Bibliotecas de Ciencia de Datos\n",
    "\n",
    "1. NumPy\n",
    "2. Pandas\n",
    "3. Matplotlib"
   ]
  },
  {
   "cell_type": "markdown",
   "id": "92a1f233",
   "metadata": {},
   "source": [
    "| Herramientas de Ciencia de Datos |\n",
    "|---------------------------------|\n",
    "| Jupyter Notebook                |\n",
    "| Scikit-learn                    |\n",
    "| TensorFlow                      |"
   ]
  },
  {
   "cell_type": "markdown",
   "id": "7dd20223",
   "metadata": {},
   "source": [
    "## Ejemplos de Expresiones Aritméticas\n",
    "\n",
    "- Suma: 5 + 3\n",
    "- Resta: 10 - 2\n",
    "- Multiplicación: 4 * 6\n",
    "- División: 15 / 3\n",
    "- Potenciación: 2 ** 4"
   ]
  },
  {
   "cell_type": "code",
   "execution_count": 14,
   "id": "7620533a",
   "metadata": {},
   "outputs": [
    {
     "data": {
      "text/plain": [
       "(8, 15)"
      ]
     },
     "execution_count": 14,
     "metadata": {},
     "output_type": "execute_result"
    }
   ],
   "source": [
    "# Celda de código\n",
    "num1 = 5\n",
    "num2 = 3\n",
    "\n",
    "suma = num1 + num2\n",
    "multiplicacion = num1 * num2\n",
    "\n",
    "suma, multiplicacion"
   ]
  },
  {
   "cell_type": "code",
   "execution_count": 15,
   "id": "c6eae7eb",
   "metadata": {},
   "outputs": [
    {
     "data": {
      "text/plain": [
       "2.0"
      ]
     },
     "execution_count": 15,
     "metadata": {},
     "output_type": "execute_result"
    }
   ],
   "source": [
    "# Celda de código\n",
    "minutos = 120\n",
    "horas = minutos / 60\n",
    "\n",
    "horas"
   ]
  },
  {
   "cell_type": "markdown",
   "id": "4dbaa64c",
   "metadata": {},
   "source": [
    "## Objetivos\n",
    "\n",
    "1. Familiarizarse con conceptos básicos de ciencia de datos.\n",
    "2. Aprender a utilizar diferentes lenguajes y bibliotecas de ciencia de datos.\n",
    "3. Practicar la manipulación de datos y el análisis exploratorio."
   ]
  },
  {
   "cell_type": "markdown",
   "id": "ed498b2e",
   "metadata": {},
   "source": [
    "Autor: Diego Serrano"
   ]
  },
  {
   "cell_type": "code",
   "execution_count": null,
   "id": "2939fcae",
   "metadata": {},
   "outputs": [],
   "source": []
  }
 ],
 "metadata": {
  "kernelspec": {
   "display_name": "Python 3 (ipykernel)",
   "language": "python",
   "name": "python3"
  },
  "language_info": {
   "codemirror_mode": {
    "name": "ipython",
    "version": 3
   },
   "file_extension": ".py",
   "mimetype": "text/x-python",
   "name": "python",
   "nbconvert_exporter": "python",
   "pygments_lexer": "ipython3",
   "version": "3.9.12"
  }
 },
 "nbformat": 4,
 "nbformat_minor": 5
}
